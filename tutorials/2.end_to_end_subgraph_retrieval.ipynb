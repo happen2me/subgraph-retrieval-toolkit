{
 "cells": [
  {
   "attachments": {},
   "cell_type": "markdown",
   "metadata": {},
   "source": [
    "# End-to-end Subgraph Retrieval\n",
    "\n",
    "This tutorial showcases how to use `srtk` to retrieve subgraphs using natural language questions from  [Wikidata](https://www.wikidata.org/).\n",
    "\n",
    "It contains the following steps:\n",
    "\n",
    "0. [Install the dependencies](#step-0-preparations)\n",
    "1. [Link the entities in the question to the entities in Wikidata.](#step-1-entity-linking)\n",
    "2. [Use a pretrained retriever to retrieve the subgraphs.](#step-2-retrieve-subgraphs)\n",
    "3. [Visualize the retrieved subgraphs.](#step-3-visualize-the-retrieved-subgraphs)\n",
    "\n",
    "We will use [Mintaka](https://huggingface.co/datasets/AmazonScience/mintaka) dataset as an example. "
   ]
  },
  {
   "attachments": {},
   "cell_type": "markdown",
   "metadata": {},
   "source": [
    "## Step 0. Preparations"
   ]
  },
  {
   "attachments": {},
   "cell_type": "markdown",
   "metadata": {},
   "source": [
    "Before running this notebook, you should have the entity linking server, Wikidata SPARQL server and wikimapper database prepared. prepared. Please refer to [Setup Wikidata](https://srtk.readthedocs.io/en/latest/setups/setup_wikidata.html) for setup instructions. We assume that:\n",
    "\n",
    "- The REL entity linking server is running at `http://localhost:1235`.\n",
    "- The Wikidata SPARQL server endpoint is at `http://localhost:1234/api/endpoint/sparql`.\n",
    "- The wikimapper database file is located at `resources/wikimapper/index_enwiki.db`"
   ]
  },
  {
   "cell_type": "code",
   "execution_count": null,
   "metadata": {},
   "outputs": [],
   "source": [
    "# Install srtk\n",
    "!pip install srtk"
   ]
  },
  {
   "cell_type": "code",
   "execution_count": null,
   "metadata": {},
   "outputs": [],
   "source": [
    "# Import all dependencies\n",
    "import srsly\n",
    "from datasets import load_dataset"
   ]
  },
  {
   "attachments": {},
   "cell_type": "markdown",
   "metadata": {},
   "source": [
    "Define intermediate and output file paths:"
   ]
  },
  {
   "cell_type": "code",
   "execution_count": null,
   "metadata": {},
   "outputs": [],
   "source": [
    "question_path = 'data/mintaka-100/question.jsonl'\n",
    "linked_path = 'data/mintaka-100/linked.jsonl'\n",
    "retrieved_subgraph_path = 'data/mintaka-100/subgraph.jsonl'\n",
    "visualization_dir = 'data/mintaka-100/html'"
   ]
  },
  {
   "attachments": {},
   "cell_type": "markdown",
   "metadata": {},
   "source": [
    "## Step 1. Entity Linking\n",
    "\n",
    "Actually, mintaka dataset is already linked to Wikidata. We still perform this step to generalize the usage of `srtk` to those datasets that are not linked to Wikidata."
   ]
  },
  {
   "attachments": {},
   "cell_type": "markdown",
   "metadata": {},
   "source": [
    "Different steps between pipelines are connected with files (mostly jsonl files) in `srtk`. Therefore, we first need to convert the dataset to a `jsonl` file, where each line is a json object representing a question."
   ]
  },
  {
   "cell_type": "code",
   "execution_count": null,
   "metadata": {},
   "outputs": [
    {
     "name": "stderr",
     "output_type": "stream",
     "text": [
      "No config specified, defaulting to: mintaka/en\n",
      "Found cached dataset mintaka (/home/wiss/liao/.cache/huggingface/datasets/AmazonScience___mintaka/en/1.0.0/bb35d95f07aed78fa590601245009c5f585efe909dbd4a8f2a4025ccf65bb11d)\n"
     ]
    },
    {
     "name": "stdout",
     "output_type": "stream",
     "text": [
      "Dataset({\n",
      "    features: ['id', 'lang', 'question', 'answerText', 'category', 'complexityType', 'questionEntity', 'answerEntity'],\n",
      "    num_rows: 100\n",
      "})\n"
     ]
    }
   ],
   "source": [
    "\n",
    "# Load the first 100 samples of mintaka dataset from huggingface datasets \n",
    "mintaka = load_dataset(\"AmazonScience/mintaka\", split=\"train[:100]\")\n",
    "print(mintaka)\n",
    "# Extract the question and id from the dataset\n",
    "samples = [{'id': sample['id'], 'question': sample['question']} for sample in mintaka]\n",
    "srsly.write_jsonl(question_path, samples)"
   ]
  },
  {
   "attachments": {},
   "cell_type": "markdown",
   "metadata": {},
   "source": [
    "Perform entity linking on the questions using the CLI interface. Run `srtk link --help` for more details."
   ]
  },
  {
   "cell_type": "code",
   "execution_count": null,
   "metadata": {},
   "outputs": [
    {
     "name": "stdout",
     "output_type": "stream",
     "text": [
      "Entity linking data/mintaka-100/question.jsonl: 100%|█| 100/100 [00:02<00:00, 37\n",
      "0 / 146 grounded entities not converted to Wikidata qids\n",
      "Entity linking result saved to data/mintaka-100/linked.jsonl\n"
     ]
    }
   ],
   "source": [
    "!srtk link --input $question_path \\\n",
    "    --output $linked_path \\\n",
    "    --knowledge-graph wikidata \\\n",
    "    --ground-on question \\\n",
    "    --el-endpoint http://127.0.0.1:1235 \\\n",
    "    --wikimapper-db resources/wikimapper/index_enwiki.db"
   ]
  },
  {
   "attachments": {},
   "cell_type": "markdown",
   "metadata": {},
   "source": [
    "Check the linking results"
   ]
  },
  {
   "cell_type": "code",
   "execution_count": null,
   "metadata": {},
   "outputs": [
    {
     "name": "stdout",
     "output_type": "stream",
     "text": [
      "{\"question\":\"What is the seventh tallest mountain in North America?\",\"question_entities\":[\"Q49\"],\"spans\":[[40,53]],\"entity_names\":[\"North_America\"],\"id\":\"a9011ddf\"}\n",
      "{\"question\":\"Which actor was the star of Titanic and was born in Los Angeles, California?\",\"question_entities\":[\"Q44578\",\"Q65\",\"Q99\"],\"spans\":[[28,35],[52,63],[65,75]],\"entity_names\":[\"Titanic_(1997_film)\",\"Los_Angeles\",\"California\"],\"id\":\"2723bb1b\"}\n",
      "{\"question\":\"Which actor starred in Vanilla Sky and was married to Katie Holmes?\",\"question_entities\":[\"Q110278\",\"Q174346\"],\"spans\":[[23,34],[54,66]],\"entity_names\":[\"Vanilla_Sky\",\"Katie_Holmes\"],\"id\":\"88349c89\"}\n",
      "{\"question\":\"What year was the first book of the A Song of Ice and Fire series published?\",\"question_entities\":[\"Q45875\"],\"spans\":[[36,58]],\"entity_names\":[\"A_Song_of_Ice_and_Fire\"],\"id\":\"bff78c91\"}\n",
      "{\"question\":\"Who is the youngest current US governor?\",\"question_entities\":[\"Q30\"],\"spans\":[[28,30]],\"entity_names\":[\"United_States\"],\"id\":\"982450cf\"}\n"
     ]
    }
   ],
   "source": [
    "!head -n 5 $linked_path"
   ]
  },
  {
   "attachments": {},
   "cell_type": "markdown",
   "metadata": {},
   "source": [
    "## Step 2. Retrieve Subgraphs\n",
    "\n",
    "The retrieved path consists of a list of relations, based on the idea that a question typically implies a reasoning chain. For instance, \"Where is Hakata Ward?\" implies \"Hakata --**locate in**--> ?\".\n",
    "\n",
    "The retrieval process relies on the similarities between a question and its expanding path, which is formed by the relations along that path. In the example mentioned above, the expanding path `locate in` would have an embedding close to the question embedding. For multi-hop relations, each relation is embedded close to the embedding of the question combined with previous relations. For instance, if a question `q` has the reasoning path `r1 -> r2 -> r3`, then the embedding of `r1` is embedded close to `q`, the embedding of `r2` is close to `q + r1`, and the embedding of `r3` is close to `q + r1 + r2`.\n",
    "\n",
    "A scorer is used to evaluate the similarity between the question and the expanding path. In this tutorial, a BERT-like model was trained as a scorer, and it is available on Huggingface Hub under the name `drt/scorer-mintaka`. To train your own scorer, please refer to [Train a Scorer](https://github.com/happen2me/subgraph-retrieval-toolkit/blob/main/tutorials/3.weak_train_wikidata.ipynb). If your scorer model is saved locally, you can pass the directory containing the model to the `--scorer-model-path` argument.\n",
    "\n",
    "Note that the [qualifiers](https://www.wikidata.org/wiki/Help:Qualifiers) in Wikidata are ignored during retrieval by default. You may use option `--include-qualifiers` to include qualifiers in the retrieval process. The `drt/scorer-mintaka` model was however trained without qualifiers.\n",
    "\n",
    "You can use srtk retrieve to retrieve subgraphs based on the pre-trained model. Internally, it performs two tasks:\n",
    "\n",
    "1. Executes beam search for possible paths (relation chains) using the trained scorer.\n",
    "2. Retrieves entities starting from the linked entities in the question, following the relation paths through the Wikidata SPARQL endpoint.\n",
    "The subgraphs are represented as triplets of (subject, relation, object). These triplets are added to the output JSONL file in the triplets field.\n",
    "\n",
    "For more information, run srtk retrieve --help."
   ]
  },
  {
   "cell_type": "code",
   "execution_count": null,
   "metadata": {},
   "outputs": [
    {
     "name": "stdout",
     "output_type": "stream",
     "text": [
      "Retrieving subgraphs: 100%|███████████████████| 100/100 [00:50<00:00,  1.97it/s]\n",
      "Retrieved subgraphs saved to to data/mintaka-100/subgraph.jsonl\n"
     ]
    }
   ],
   "source": [
    "!srtk retrieve --input $linked_path \\\n",
    "    --output $retrieved_subgraph_path \\\n",
    "    --sparql-endpoint http://localhost:1234/api/endpoint/sparql \\\n",
    "    --knowledge-graph wikidata \\\n",
    "    --scorer-model-path drt/scorer-mintaka \\\n",
    "    --beam-width 10 \\\n",
    "    --max-depth 2"
   ]
  },
  {
   "cell_type": "code",
   "execution_count": null,
   "metadata": {},
   "outputs": [
    {
     "name": "stdout",
     "output_type": "stream",
     "text": [
      "\u001b[1;39m{\n",
      "  \u001b[0m\u001b[34;1m\"question\"\u001b[0m\u001b[1;39m: \u001b[0m\u001b[0;32m\"Which actor starred in Vanilla Sky and was married to Katie Holmes?\"\u001b[0m\u001b[1;39m,\n",
      "  \u001b[0m\u001b[34;1m\"question_entities\"\u001b[0m\u001b[1;39m: \u001b[0m\u001b[1;39m[\n",
      "    \u001b[0;32m\"Q110278\"\u001b[0m\u001b[1;39m,\n",
      "    \u001b[0;32m\"Q174346\"\u001b[0m\u001b[1;39m\n",
      "  \u001b[1;39m]\u001b[0m\u001b[1;39m,\n",
      "  \u001b[0m\u001b[34;1m\"spans\"\u001b[0m\u001b[1;39m: \u001b[0m\u001b[1;39m[\n",
      "    \u001b[1;39m[\n",
      "      \u001b[0;39m23\u001b[0m\u001b[1;39m,\n",
      "      \u001b[0;39m34\u001b[0m\u001b[1;39m\n",
      "    \u001b[1;39m]\u001b[0m\u001b[1;39m,\n",
      "    \u001b[1;39m[\n",
      "      \u001b[0;39m54\u001b[0m\u001b[1;39m,\n",
      "      \u001b[0;39m66\u001b[0m\u001b[1;39m\n",
      "    \u001b[1;39m]\u001b[0m\u001b[1;39m\n",
      "  \u001b[1;39m]\u001b[0m\u001b[1;39m,\n",
      "  \u001b[0m\u001b[34;1m\"entity_names\"\u001b[0m\u001b[1;39m: \u001b[0m\u001b[1;39m[\n",
      "    \u001b[0;32m\"Vanilla_Sky\"\u001b[0m\u001b[1;39m,\n",
      "    \u001b[0;32m\"Katie_Holmes\"\u001b[0m\u001b[1;39m\n",
      "  \u001b[1;39m]\u001b[0m\u001b[1;39m,\n",
      "  \u001b[0m\u001b[34;1m\"id\"\u001b[0m\u001b[1;39m: \u001b[0m\u001b[0;32m\"88349c89\"\u001b[0m\u001b[1;39m,\n",
      "  \u001b[0m\u001b[34;1m\"triplets\"\u001b[0m\u001b[1;39m: \u001b[0m\u001b[1;39m[\n",
      "    \u001b[1;39m[\n",
      "      \u001b[0;32m\"Q110278\"\u001b[0m\u001b[1;39m,\n",
      "      \u001b[0;32m\"P1981\"\u001b[0m\u001b[1;39m,\n",
      "      \u001b[0;32m\"Q20644797\"\u001b[0m\u001b[1;39m\n",
      "    \u001b[1;39m]\u001b[0m\u001b[1;39m,\n",
      "    \u001b[1;39m[\n",
      "      \u001b[0;32m\"Q49088\"\u001b[0m\u001b[1;39m,\n",
      "      \u001b[0;32m\"P2643\"\u001b[0m\u001b[1;39m,\n",
      "      \u001b[0;32m\"Q23622831\"\u001b[0m\u001b[1;39m\n",
      "    \u001b[1;39m]\u001b[0m\u001b[1;39m,\n",
      "    \u001b[1;39m[\n",
      "      \u001b[0;32m\"Q174346\"\u001b[0m\u001b[1;39m,\n",
      "      \u001b[0;32m\"P1340\"\u001b[0m\u001b[1;39m,\n",
      "      \u001b[0;32m\"Q17122740\"\u001b[0m\u001b[1;39m\n",
      "    \u001b[1;39m]\u001b[0m\u001b[1;39m,\n",
      "    \u001b[1;39m[\n",
      "      \u001b[0;32m\"Q49088\"\u001b[0m\u001b[1;39m,\n",
      "      \u001b[0;32m\"P2643\"\u001b[0m\u001b[1;39m,\n",
      "      \u001b[0;32m\"Q23623491\"\u001b[0m\u001b[1;39m\n",
      "    \u001b[1;39m]\u001b[0m\u001b[1;39m,\n",
      "    \u001b[1;39m[\n",
      "      \u001b[0;32m\"Q174346\"\u001b[0m\u001b[1;39m,\n",
      "      \u001b[0;32m\"P19\"\u001b[0m\u001b[1;39m,\n",
      "      \u001b[0;32m\"Q49239\"\u001b[0m\u001b[1;39m\n",
      "    \u001b[1;39m]\u001b[0m\u001b[1;39m,\n",
      "    \u001b[1;39m[\n",
      "      \u001b[0;32m\"Q174346\"\u001b[0m\u001b[1;39m,\n",
      "      \u001b[0;32m\"P27\"\u001b[0m\u001b[1;39m,\n",
      "      \u001b[0;32m\"Q30\"\u001b[0m\u001b[1;39m\n",
      "    \u001b[1;39m]\u001b[0m\u001b[1;39m,\n",
      "    \u001b[1;39m[\n",
      "      \u001b[0;32m\"Q110278\"\u001b[0m\u001b[1;39m,\n",
      "      \u001b[0;32m\"P921\"\u001b[0m\u001b[1;39m,\n",
      "      \u001b[0;32m\"Q10737\"\u001b[0m\u001b[1;39m\n",
      "    \u001b[1;39m]\u001b[0m\u001b[1;39m,\n",
      "    \u001b[1;39m[\n",
      "      \u001b[0;32m\"Q174346\"\u001b[0m\u001b[1;39m,\n",
      "      \u001b[0;32m\"P26\"\u001b[0m\u001b[1;39m,\n",
      "      \u001b[0;32m\"Q37079\"\u001b[0m\u001b[1;39m\n",
      "    \u001b[1;39m]\u001b[0m\u001b[1;39m,\n",
      "    \u001b[1;39m[\n",
      "      \u001b[0;32m\"Q49088\"\u001b[0m\u001b[1;39m,\n",
      "      \u001b[0;32m\"P2643\"\u001b[0m\u001b[1;39m,\n",
      "      \u001b[0;32m\"Q23662433\"\u001b[0m\u001b[1;39m\n",
      "    \u001b[1;39m]\u001b[0m\u001b[1;39m,\n",
      "    \u001b[1;39m[\n",
      "      \u001b[0;32m\"Q110278\"\u001b[0m\u001b[1;39m,\n",
      "      \u001b[0;32m\"P364\"\u001b[0m\u001b[1;39m,\n",
      "      \u001b[0;32m\"Q1860\"\u001b[0m\u001b[1;39m\n",
      "    \u001b[1;39m]\u001b[0m\u001b[1;39m,\n",
      "    \u001b[1;39m[\n",
      "      \u001b[0;32m\"Q174346\"\u001b[0m\u001b[1;39m,\n",
      "      \u001b[0;32m\"P6886\"\u001b[0m\u001b[1;39m,\n",
      "      \u001b[0;32m\"Q1860\"\u001b[0m\u001b[1;39m\n",
      "    \u001b[1;39m]\u001b[0m\u001b[1;39m,\n",
      "    \u001b[1;39m[\n",
      "      \u001b[0;32m\"Q49088\"\u001b[0m\u001b[1;39m,\n",
      "      \u001b[0;32m\"P2643\"\u001b[0m\u001b[1;39m,\n",
      "      \u001b[0;32m\"Q23662486\"\u001b[0m\u001b[1;39m\n",
      "    \u001b[1;39m]\u001b[0m\u001b[1;39m,\n",
      "    \u001b[1;39m[\n",
      "      \u001b[0;32m\"Q110278\"\u001b[0m\u001b[1;39m,\n",
      "      \u001b[0;32m\"P921\"\u001b[0m\u001b[1;39m,\n",
      "      \u001b[0;32m\"Q544830\"\u001b[0m\u001b[1;39m\n",
      "    \u001b[1;39m]\u001b[0m\u001b[1;39m,\n",
      "    \u001b[1;39m[\n",
      "      \u001b[0;32m\"Q49088\"\u001b[0m\u001b[1;39m,\n",
      "      \u001b[0;32m\"P2643\"\u001b[0m\u001b[1;39m,\n",
      "      \u001b[0;32m\"Q23334765\"\u001b[0m\u001b[1;39m\n",
      "    \u001b[1;39m]\u001b[0m\u001b[1;39m,\n",
      "    \u001b[1;39m[\n",
      "      \u001b[0;32m\"Q174346\"\u001b[0m\u001b[1;39m,\n",
      "      \u001b[0;32m\"P40\"\u001b[0m\u001b[1;39m,\n",
      "      \u001b[0;32m\"Q11313411\"\u001b[0m\u001b[1;39m\n",
      "    \u001b[1;39m]\u001b[0m\u001b[1;39m,\n",
      "    \u001b[1;39m[\n",
      "      \u001b[0;32m\"Q174346\"\u001b[0m\u001b[1;39m,\n",
      "      \u001b[0;32m\"P69\"\u001b[0m\u001b[1;39m,\n",
      "      \u001b[0;32m\"Q49088\"\u001b[0m\u001b[1;39m\n",
      "    \u001b[1;39m]\u001b[0m\u001b[1;39m,\n",
      "    \u001b[1;39m[\n",
      "      \u001b[0;32m\"Q110278\"\u001b[0m\u001b[1;39m,\n",
      "      \u001b[0;32m\"P2408\"\u001b[0m\u001b[1;39m,\n",
      "      \u001b[0;32m\"Q11177\"\u001b[0m\u001b[1;39m\n",
      "    \u001b[1;39m]\u001b[0m\u001b[1;39m,\n",
      "    \u001b[1;39m[\n",
      "      \u001b[0;32m\"Q110278\"\u001b[0m\u001b[1;39m,\n",
      "      \u001b[0;32m\"P921\"\u001b[0m\u001b[1;39m,\n",
      "      \u001b[0;32m\"Q7242\"\u001b[0m\u001b[1;39m\n",
      "    \u001b[1;39m]\u001b[0m\u001b[1;39m,\n",
      "    \u001b[1;39m[\n",
      "      \u001b[0;32m\"Q174346\"\u001b[0m\u001b[1;39m,\n",
      "      \u001b[0;32m\"P21\"\u001b[0m\u001b[1;39m,\n",
      "      \u001b[0;32m\"Q6581072\"\u001b[0m\u001b[1;39m\n",
      "    \u001b[1;39m]\u001b[0m\u001b[1;39m,\n",
      "    \u001b[1;39m[\n",
      "      \u001b[0;32m\"Q229598\"\u001b[0m\u001b[1;39m,\n",
      "      \u001b[0;32m\"P1343\"\u001b[0m\u001b[1;39m,\n",
      "      \u001b[0;32m\"Q67311526\"\u001b[0m\u001b[1;39m\n",
      "    \u001b[1;39m]\u001b[0m\u001b[1;39m,\n",
      "    \u001b[1;39m[\n",
      "      \u001b[0;32m\"Q110278\"\u001b[0m\u001b[1;39m,\n",
      "      \u001b[0;32m\"P2554\"\u001b[0m\u001b[1;39m,\n",
      "      \u001b[0;32m\"Q229598\"\u001b[0m\u001b[1;39m\n",
      "    \u001b[1;39m]\u001b[0m\u001b[1;39m,\n",
      "    \u001b[1;39m[\n",
      "      \u001b[0;32m\"Q49088\"\u001b[0m\u001b[1;39m,\n",
      "      \u001b[0;32m\"P2643\"\u001b[0m\u001b[1;39m,\n",
      "      \u001b[0;32m\"Q23662760\"\u001b[0m\u001b[1;39m\n",
      "    \u001b[1;39m]\u001b[0m\u001b[1;39m,\n",
      "    \u001b[1;39m[\n",
      "      \u001b[0;32m\"Q110278\"\u001b[0m\u001b[1;39m,\n",
      "      \u001b[0;32m\"P437\"\u001b[0m\u001b[1;39m,\n",
      "      \u001b[0;32m\"Q723685\"\u001b[0m\u001b[1;39m\n",
      "    \u001b[1;39m]\u001b[0m\u001b[1;39m,\n",
      "    \u001b[1;39m[\n",
      "      \u001b[0;32m\"Q110278\"\u001b[0m\u001b[1;39m,\n",
      "      \u001b[0;32m\"P5021\"\u001b[0m\u001b[1;39m,\n",
      "      \u001b[0;32m\"Q4165246\"\u001b[0m\u001b[1;39m\n",
      "    \u001b[1;39m]\u001b[0m\u001b[1;39m,\n",
      "    \u001b[1;39m[\n",
      "      \u001b[0;32m\"Q110278\"\u001b[0m\u001b[1;39m,\n",
      "      \u001b[0;32m\"P2747\"\u001b[0m\u001b[1;39m,\n",
      "      \u001b[0;32m\"Q23830578\"\u001b[0m\u001b[1;39m\n",
      "    \u001b[1;39m]\u001b[0m\u001b[1;39m,\n",
      "    \u001b[1;39m[\n",
      "      \u001b[0;32m\"Q110278\"\u001b[0m\u001b[1;39m,\n",
      "      \u001b[0;32m\"P1889\"\u001b[0m\u001b[1;39m,\n",
      "      \u001b[0;32m\"Q1254975\"\u001b[0m\u001b[1;39m\n",
      "    \u001b[1;39m]\u001b[0m\u001b[1;39m,\n",
      "    \u001b[1;39m[\n",
      "      \u001b[0;32m\"Q174346\"\u001b[0m\u001b[1;39m,\n",
      "      \u001b[0;32m\"P1343\"\u001b[0m\u001b[1;39m,\n",
      "      \u001b[0;32m\"Q67311526\"\u001b[0m\u001b[1;39m\n",
      "    \u001b[1;39m]\u001b[0m\u001b[1;39m\n",
      "  \u001b[1;39m]\u001b[0m\u001b[1;39m\n",
      "\u001b[1;39m}\u001b[0m\n"
     ]
    }
   ],
   "source": [
    "!sed '3!d' $retrieved_subgraph_path | jq"
   ]
  },
  {
   "attachments": {},
   "cell_type": "markdown",
   "metadata": {},
   "source": [
    "## Step 3. Visualize the retrieved subgraphs\n",
    "\n",
    "You may use the `srtk visualize` command to easily visualize the retrieved subgraphs. Each subgraph is stored as a webpage file. Run `srtk visualize --help` for more details."
   ]
  },
  {
   "cell_type": "code",
   "execution_count": null,
   "metadata": {},
   "outputs": [
    {
     "name": "stdout",
     "output_type": "stream",
     "text": [
      "Visualizing graphs:   0%|                               | 0/100 [00:00<?, ?it/s]No label for identifier Q49280127.\n",
      "Visualizing graphs:   4%|▉                      | 4/100 [00:00<00:15,  6.06it/s]No label for identifier Q29045456.\n",
      "No label for identifier Q20571325.\n",
      "No label for identifier Q29045433.\n",
      "Visualizing graphs:  22%|████▊                 | 22/100 [00:03<00:10,  7.66it/s]No label for identifier Q25554668.\n",
      "Visualizing graphs:  23%|█████                 | 23/100 [00:03<00:11,  6.79it/s]No label for identifier Q43200400.\n",
      "Visualizing graphs:  25%|█████▌                | 25/100 [00:03<00:11,  6.29it/s]No label for identifier Q22828226.\n",
      "Visualizing graphs:  37%|████████▏             | 37/100 [00:04<00:06,  9.97it/s]No label for identifier Q11522520.\n",
      "Visualizing graphs:  57%|████████████▌         | 57/100 [00:06<00:03, 13.73it/s]No label for identifier Q1847223.\n",
      "No label for identifier Q112289487.\n",
      "Visualizing graphs:  61%|█████████████▍        | 61/100 [00:06<00:03, 11.89it/s]No label for identifier Q24738119.\n",
      "Visualizing graphs: 100%|█████████████████████| 100/100 [00:10<00:00,  9.85it/s]\n",
      "Visualized graphs outputted to data/mintaka-100/html.\n"
     ]
    }
   ],
   "source": [
    "!srtk visualize --input $retrieved_subgraph_path \\\n",
    "    --output-dir $visualization_dir \\\n",
    "    --sparql-endpoint http://localhost:1234/api/endpoint/sparql \\\n",
    "    --knowledge-graph wikidata"
   ]
  },
  {
   "attachments": {},
   "cell_type": "markdown",
   "metadata": {},
   "source": [
    "A visualization example of question *Which actor starred in Vanilla Sky and was married to Katie Holmes?* is shown below. The question entities are shown in dark blue.\n",
    "\n",
    "![image.png](https://i.imgur.com/nsYUhGT.png)"
   ]
  },
  {
   "attachments": {},
   "cell_type": "markdown",
   "metadata": {},
   "source": [
    "Moreover, the visualization script can highlight the answer entities if the answers are known (e.g. KGQA). To do so, 'answer_entities' field should present in the subgraph JSONL file. The format of the 'answer_entities' field is a list of Wikidata entity IDs.\n",
    "\n",
    "In Mintaka dataset, some of the answers are in the form of entities and are already known, we can trivially add them to the subgraph JSONL file."
   ]
  },
  {
   "cell_type": "code",
   "execution_count": null,
   "metadata": {},
   "outputs": [
    {
     "name": "stdout",
     "output_type": "stream",
     "text": [
      "  \"answer_entities\": [\n",
      "    \"Q37079\"\n",
      "  ]\n"
     ]
    }
   ],
   "source": [
    "subgraphs = srsly.read_jsonl(retrieved_subgraph_path)\n",
    "processed_subgraphs = []\n",
    "for sample, subgraph in zip(iter(mintaka), subgraphs):\n",
    "    answers = [answer['name'] for answer in sample['answerEntity']]\n",
    "    subgraph['answer_entities'] = answers\n",
    "    processed_subgraphs.append(subgraph)\n",
    "srsly.write_jsonl(retrieved_subgraph_path, processed_subgraphs)\n",
    "\n",
    "# Show the answer entities of the third sample\n",
    "!sed '3!d' $retrieved_subgraph_path | jq | grep -A 2 answer_entities"
   ]
  },
  {
   "attachments": {},
   "cell_type": "markdown",
   "metadata": {},
   "source": [
    "Run the visualization script again, we can see that the answer entities are highlighted in green the subgraph."
   ]
  },
  {
   "cell_type": "code",
   "execution_count": null,
   "metadata": {},
   "outputs": [
    {
     "name": "stdout",
     "output_type": "stream",
     "text": [
      "Visualizing graphs:   0%|                               | 0/100 [00:00<?, ?it/s]No label for identifier Q49280127.\n",
      "Visualizing graphs:   3%|▋                      | 3/100 [00:00<00:16,  5.84it/s]No label for identifier Q20571325.\n",
      "No label for identifier Q29045456.\n",
      "No label for identifier Q29045433.\n",
      "Visualizing graphs:   5%|█▏                     | 5/100 [00:00<00:13,  7.18it/s]No label for identifier Q29045456.\n",
      "Visualizing graphs:  22%|████▊                 | 22/100 [00:03<00:10,  7.72it/s]No label for identifier Q25554668.\n",
      "Visualizing graphs:  23%|█████                 | 23/100 [00:03<00:10,  7.36it/s]No label for identifier Q43200400.\n",
      "Visualizing graphs:  24%|█████▎                | 24/100 [00:03<00:11,  6.89it/s]No label for identifier Q22828226.\n",
      "Visualizing graphs:  38%|████████▎             | 38/100 [00:04<00:05, 11.25it/s]No label for identifier Q11522520.\n",
      "Visualizing graphs:  57%|████████████▌         | 57/100 [00:05<00:03, 13.83it/s]No label for identifier Q112289487.\n",
      "No label for identifier Q1847223.\n",
      "Visualizing graphs:  61%|█████████████▍        | 61/100 [00:06<00:03, 12.36it/s]No label for identifier Q24738119.\n",
      "Visualizing graphs: 100%|█████████████████████| 100/100 [00:09<00:00, 10.76it/s]\n",
      "Visualized graphs outputted to data/mintaka-100/html.\n"
     ]
    }
   ],
   "source": [
    "!srtk visualize --input $retrieved_subgraph_path \\\n",
    "    --output-dir $visualization_dir \\\n",
    "    --sparql-endpoint http://localhost:1234/api/endpoint/sparql \\\n",
    "    --knowledge-graph wikidata"
   ]
  },
  {
   "attachments": {},
   "cell_type": "markdown",
   "metadata": {},
   "source": [
    "If the answer entities are retrieved, they will be displayed in green. An example is shown below.\n",
    "\n",
    "![with-answer-entity](https://i.imgur.com/BcC8dde.png)"
   ]
  }
 ],
 "metadata": {
  "kernelspec": {
   "display_name": "dragon",
   "language": "python",
   "name": "python3"
  },
  "language_info": {
   "codemirror_mode": {
    "name": "ipython",
    "version": 3
   },
   "file_extension": ".py",
   "mimetype": "text/x-python",
   "name": "python",
   "nbconvert_exporter": "python",
   "pygments_lexer": "ipython3",
   "version": "3.8.15"
  }
 },
 "nbformat": 4,
 "nbformat_minor": 2
}
