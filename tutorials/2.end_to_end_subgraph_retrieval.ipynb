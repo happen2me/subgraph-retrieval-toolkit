{
 "cells": [
  {
   "attachments": {},
   "cell_type": "markdown",
   "metadata": {},
   "source": [
    "# End-to-end Subgraph Retrieval\n",
    "\n",
    "This tutorial showcases how to use `srtk` to retrieve subgraphs using natural language questions from  [Wikidata](https://www.wikidata.org/).\n",
    "\n",
    "It contains the following steps:\n",
    "\n",
    "0. [Install the dependencies](#step-0-preparations)\n",
    "1. [Link the entities in the question to the entities in Wikidata.](#step-1-entity-linking)\n",
    "2. [Use a pretrained retriever to retrieve the subgraphs.](#step-2-retrieve-subgraphs)\n",
    "3. [Visualize the retrieved subgraphs.](#step-3-visualize-the-retrieved-subgraphs)\n",
    "\n",
    "We will use [Mintaka](https://huggingface.co/datasets/AmazonScience/mintaka) dataset as an example. "
   ]
  },
  {
   "attachments": {},
   "cell_type": "markdown",
   "metadata": {},
   "source": [
    "## Step 0. Preparations"
   ]
  },
  {
   "attachments": {},
   "cell_type": "markdown",
   "metadata": {},
   "source": [
    "Before running this notebook, you should have the entity linking server, Wikidata SPARQL server and wikimapper database prepared. prepared. Please refer to [Setup Wikidata]() for setup instructions. We assume that:\n",
    "\n",
    "- The REL entity linking server is running at `http://localhost:1235`.\n",
    "- The Wikidata SPARQL server endpoint is at `http://localhost:1234/api/endpoint/sparql`.\n",
    "- The wikimapper database file is located at `resources/wikimapper/index_enwiki.db`"
   ]
  },
  {
   "cell_type": "code",
   "execution_count": null,
   "metadata": {},
   "outputs": [],
   "source": [
    "# Install srtk\n",
    "!pip install srtk"
   ]
  },
  {
   "cell_type": "code",
   "execution_count": null,
   "metadata": {},
   "outputs": [],
   "source": [
    "# Import all dependencies\n",
    "import srsly\n",
    "from datasets import load_dataset"
   ]
  },
  {
   "attachments": {},
   "cell_type": "markdown",
   "metadata": {},
   "source": [
    "Define intermediate and output file paths:"
   ]
  },
  {
   "cell_type": "code",
   "execution_count": null,
   "metadata": {},
   "outputs": [],
   "source": [
    "question_path = 'data/mintaka-100/question.jsonl'\n",
    "linked_path = 'data/mintaka-100/linked.jsonl'\n",
    "retrieved_subgraph_path = 'data/mintaka-100/subgraph.jsonl'\n",
    "visualization_dir = 'data/mintaka-100/html'"
   ]
  },
  {
   "attachments": {},
   "cell_type": "markdown",
   "metadata": {},
   "source": [
    "## Step 1. Entity Linking\n",
    "\n",
    "Actually, mintaka dataset is already linked to Wikidata. We still perform this step to generalize the usage of `srtk` to those datasets that are not linked to Wikidata."
   ]
  },
  {
   "attachments": {},
   "cell_type": "markdown",
   "metadata": {},
   "source": [
    "Different steps between pipelines are connected with files (mostly jsonl files) in `srtk`. Therefore, we first need to convert the dataset to a `jsonl` file, where each line is a json object representing a question."
   ]
  },
  {
   "cell_type": "code",
   "execution_count": null,
   "metadata": {},
   "outputs": [
    {
     "name": "stderr",
     "output_type": "stream",
     "text": [
      "No config specified, defaulting to: mintaka/en\n",
      "Found cached dataset mintaka (/home/wiss/liao/.cache/huggingface/datasets/AmazonScience___mintaka/en/1.0.0/bb35d95f07aed78fa590601245009c5f585efe909dbd4a8f2a4025ccf65bb11d)\n"
     ]
    },
    {
     "name": "stdout",
     "output_type": "stream",
     "text": [
      "Dataset({\n",
      "    features: ['id', 'lang', 'question', 'answerText', 'category', 'complexityType', 'questionEntity', 'answerEntity'],\n",
      "    num_rows: 100\n",
      "})\n"
     ]
    }
   ],
   "source": [
    "\n",
    "# Load the first 100 samples of mintaka dataset from huggingface datasets \n",
    "mintaka = load_dataset(\"AmazonScience/mintaka\", split=\"train[:100]\")\n",
    "print(mintaka)\n",
    "# Extract the question and id from the dataset\n",
    "samples = [{'id': sample['id'], 'question': sample['question']} for sample in mintaka]\n",
    "srsly.write_jsonl(question_path, samples)"
   ]
  },
  {
   "attachments": {},
   "cell_type": "markdown",
   "metadata": {},
   "source": [
    "Perform entity linking on the questions using the CLI interface. Run `srtk link-wikidata --help` for more details."
   ]
  },
  {
   "cell_type": "code",
   "execution_count": null,
   "metadata": {},
   "outputs": [
    {
     "name": "stdout",
     "output_type": "stream",
     "text": [
      "Entity linking data/mintaka-100/question.jsonl: 100%|█| 100/100 [00:02<00:00, 37\n",
      "0 / 146 grounded entities not converted to Wikidata qids\n",
      "Entity linking result saved to data/mintaka-100/linked.jsonl\n"
     ]
    }
   ],
   "source": [
    "!srtk link-wikidata --input $question_path \\\n",
    "    --output $linked_path \\\n",
    "    --ground-on question \\\n",
    "    --el-endpoint http://127.0.0.1:1235 \\\n",
    "    --wikimapper-db resources/wikimapper/index_enwiki.db"
   ]
  },
  {
   "attachments": {},
   "cell_type": "markdown",
   "metadata": {},
   "source": [
    "Check the linking results"
   ]
  },
  {
   "cell_type": "code",
   "execution_count": null,
   "metadata": {},
   "outputs": [
    {
     "name": "stdout",
     "output_type": "stream",
     "text": [
      "{\"question\":\"What is the seventh tallest mountain in North America?\",\"question_entities\":[\"Q49\"],\"spans\":[[40,53]],\"entity_names\":[\"North_America\"],\"id\":\"a9011ddf\"}\n",
      "{\"question\":\"Which actor was the star of Titanic and was born in Los Angeles, California?\",\"question_entities\":[\"Q44578\",\"Q65\",\"Q99\"],\"spans\":[[28,35],[52,63],[65,75]],\"entity_names\":[\"Titanic_(1997_film)\",\"Los_Angeles\",\"California\"],\"id\":\"2723bb1b\"}\n",
      "{\"question\":\"Which actor starred in Vanilla Sky and was married to Katie Holmes?\",\"question_entities\":[\"Q110278\",\"Q174346\"],\"spans\":[[23,34],[54,66]],\"entity_names\":[\"Vanilla_Sky\",\"Katie_Holmes\"],\"id\":\"88349c89\"}\n",
      "{\"question\":\"What year was the first book of the A Song of Ice and Fire series published?\",\"question_entities\":[\"Q45875\"],\"spans\":[[36,58]],\"entity_names\":[\"A_Song_of_Ice_and_Fire\"],\"id\":\"bff78c91\"}\n",
      "{\"question\":\"Who is the youngest current US governor?\",\"question_entities\":[\"Q30\"],\"spans\":[[28,30]],\"entity_names\":[\"United_States\"],\"id\":\"982450cf\"}\n"
     ]
    }
   ],
   "source": [
    "!head -n 5 $linked_path"
   ]
  },
  {
   "attachments": {},
   "cell_type": "markdown",
   "metadata": {},
   "source": [
    "## Step 2. Retrieve Subgraphs\n",
    "\n",
    "The retrieved path consists of a list of relations, based on the idea that a question typically implies a reasoning chain. For instance, \"Where is Hakata Ward?\" implies \"Hakata --**locate in**--> ?\".\n",
    "\n",
    "The retrieval process relies on the similarities between a question and its expanding path, which is formed by the relations along that path. In the example mentioned above, the expanding path `locate in` would have an embedding close to the question embedding. For multi-hop relations, each relation is embedded close to the embedding of the question combined with previous relations. For instance, if a question `q` has the reasoning path `r1 -> r2 -> r3`, then the embedding of `r1` is embedded close to `q`, the embedding of `r2` is close to `q + r1`, and the embedding of `r3` is close to `q + r1 + r2`.\n",
    "\n",
    "A scorer is used to evaluate the similarity between the question and the expanding path. In this tutorial, a BERT-like model was trained as a scorer, and it is available on Huggingface Hub under the name `drt/scorer-mintaka`. To train your own scorer, please refer to [Train a Scorer](). If your scorer model is saved locally, you can pass the directory containing the model to the `--scorer-model-path` argument.\n",
    "\n",
    "Note that the [qualifiers](https://www.wikidata.org/wiki/Help:Qualifiers) in Wikidata are ignored during retrieval by default. You may use option `--include-qualifiers` to include qualifiers in the retrieval process. The `drt/scorer-mintaka` model was however trained without qualifiers.\n",
    "\n",
    "You can use srtk retrieve to retrieve subgraphs based on the pre-trained model. Internally, it performs two tasks:\n",
    "\n",
    "1. Executes beam search for possible paths (relation chains) using the trained scorer.\n",
    "2. Retrieves entities starting from the linked entities in the question, following the relation paths through the Wikidata SPARQL endpoint.\n",
    "The subgraphs are represented as triplets of (subject, relation, object). These triplets are added to the output JSONL file in the triplets field.\n",
    "\n",
    "For more information, run srtk retrieve --help."
   ]
  },
  {
   "cell_type": "code",
   "execution_count": null,
   "metadata": {},
   "outputs": [
    {
     "name": "stdout",
     "output_type": "stream",
     "text": [
      "Retrieving subgraphs: 100%|███████████████████| 100/100 [00:50<00:00,  1.97it/s]\n",
      "Retrieved subgraphs saved to to data/mintaka-100/subgraph.jsonl\n"
     ]
    }
   ],
   "source": [
    "!srtk retrieve --input $linked_path \\\n",
    "    --output $retrieved_subgraph_path \\\n",
    "    --sparql-endpoint http://localhost:1234/api/endpoint/sparql \\\n",
    "    --knowledge-graph wikidata \\\n",
    "    --scorer-model-path drt/scorer-mintaka \\\n",
    "    --beam-width 10 \\\n",
    "    --max-depth 2"
   ]
  },
  {
   "cell_type": "code",
   "execution_count": null,
   "metadata": {},
   "outputs": [
    {
     "name": "stdout",
     "output_type": "stream",
     "text": [
      "{\"question\":\"What is the seventh tallest mountain in North America?\",\"question_entities\":[\"Q49\"],\"spans\":[[40,53]],\"entity_names\":[\"North_America\"],\"id\":\"a9011ddf\",\"triplets\":[[\"Q49\",\"P527\",\"Q664609\"],[\"Q49\",\"P31\",\"Q855697\"],[\"Q49\",\"P527\",\"Q223\"],[\"Q49\",\"P361\",\"Q828\"],[\"Q49\",\"P706\",\"Q39061\"],[\"Q49\",\"P31\",\"Q5107\"],[\"Q49\",\"P5008\",\"Q6173448\"],[\"Q49\",\"P5125\",\"Q7112387\"],[\"Q49\",\"P1424\",\"Q10969804\"],[\"Q49\",\"P5008\",\"Q5460604\"],[\"Q49\",\"P527\",\"Q19464773\"],[\"Q49\",\"P1424\",\"Q7473987\"],[\"Q49\",\"P1151\",\"Q8251832\"],[\"Q49\",\"P527\",\"Q30\"],[\"Q49\",\"P527\",\"Q27611\"],[\"Q49\",\"P9241\",\"Q105743111\"],[\"Q49\",\"P460\",\"Q7856408\"],[\"Q49\",\"P460\",\"Q108275538\"]]}\n",
      "{\"question\":\"Which actor was the star of Titanic and was born in Los Angeles, California?\",\"question_entities\":[\"Q44578\",\"Q65\",\"Q99\"],\"spans\":[[28,35],[52,63],[65,75]],\"entity_names\":[\"Titanic_(1997_film)\",\"Los_Angeles\",\"California\"],\"id\":\"2723bb1b\",\"triplets\":[[\"Q44578\",\"P674\",\"Q577873\"],[\"Q846409\",\"P47\",\"Q1668473\"],[\"Q65\",\"P47\",\"Q913346\"],[\"Q44578\",\"P674\",\"Q3805567\"],[\"Q485176\",\"P47\",\"Q850869\"],[\"Q99\",\"P7867\",\"Q84082118\"],[\"Q44578\",\"P2758\",\"Q23817729\"],[\"Q44578\",\"P8371\",\"Q5151182\"],[\"Q44578\",\"P674\",\"Q545805\"],[\"Q629088\",\"P47\",\"Q395793\"],[\"Q44578\",\"P674\",\"Q215786\"],[\"Q846409\",\"P47\",\"Q65\"],[\"Q621549\",\"P47\",\"Q8731\"],[\"Q47164\",\"P47\",\"Q65\"],[\"Q984162\",\"P47\",\"Q489197\"],[\"Q983859\",\"P47\",\"Q65\"],[\"Q44578\",\"P674\",\"Q714768\"],[\"Q849619\",\"P47\",\"Q487119\"],[\"Q690991\",\"P47\",\"Q65\"],[\"Q99\",\"P8402\",\"Q97066139\"],[\"Q489197\",\"P47\",\"Q984162\"],[\"Q752681\",\"P47\",\"Q927213\"],[\"Q44578\",\"P58\",\"Q42574\"],[\"Q44578\",\"P674\",\"Q455187\"],[\"Q99\",\"P47\",\"Q58731\"],[\"Q44578\",\"P2554\",\"Q1370251\"],[\"Q1898553\",\"P47\",\"Q65\"],[\"Q44578\",\"P406\",\"Q2478025\"],[\"Q44578\",\"P1657\",\"Q18665339\"],[\"Q65\",\"P47\",\"Q1898553\"],[\"Q65\",\"P1343\",\"Q15987490\"],[\"Q65\",\"P47\",\"Q2584592\"],[\"Q44578\",\"P674\",\"Q255184\"],[\"Q913346\",\"P47\",\"Q12069123\"],[\"Q65\",\"P47\",\"Q494690\"],[\"Q489197\",\"P47\",\"Q739011\"],[\"Q99\",\"P30\",\"Q49\"],[\"Q485176\",\"P47\",\"Q174026\"],[\"Q2584592\",\"P47\",\"Q65\"],[\"Q752681\",\"P47\",\"Q910851\"],[\"Q99\",\"P610\",\"Q235539\"],[\"Q65\",\"P1343\",\"Q19180675\"],[\"Q621549\",\"P47\",\"Q65\"],[\"Q65\",\"P47\",\"Q127856\"],[\"Q44578\",\"P674\",\"Q972647\"],[\"Q851027\",\"P47\",\"Q953506\"],[\"Q65\",\"P47\",\"Q39561\"],[\"Q65\",\"P47\",\"Q493378\"],[\"Q664503\",\"P47\",\"Q65\"],[\"Q65\",\"P47\",\"Q489197\"],[\"Q849619\",\"P47\",\"Q927134\"],[\"Q485716\",\"P47\",\"Q39561\"],[\"Q65\",\"P1343\",\"Q20096917\"],[\"Q489197\",\"P47\",\"Q948149\"],[\"Q493378\",\"P47\",\"Q65\"],[\"Q99\",\"P421\",\"Q2204\"],[\"Q44578\",\"P437\",\"Q47544021\"],[\"Q47164\",\"P47\",\"Q1370207\"],[\"Q44578\",\"P674\",\"Q4892194\"],[\"Q44578\",\"P674\",\"Q347334\"],[\"Q65\",\"P793\",\"Q7510214\"],[\"Q65\",\"P47\",\"Q621549\"],[\"Q489197\",\"P47\",\"Q985356\"],[\"Q852581\",\"P47\",\"Q752681\"],[\"Q39561\",\"P47\",\"Q485716\"],[\"Q65\",\"P421\",\"Q847142\"],[\"Q1669280\",\"P47\",\"Q65\"],[\"Q65\",\"P421\",\"Q2212\"],[\"Q846409\",\"P47\",\"Q489197\"],[\"Q44578\",\"P674\",\"Q729694\"],[\"Q65\",\"P47\",\"Q984162\"],[\"Q489197\",\"P47\",\"Q846409\"],[\"Q752681\",\"P47\",\"Q852581\"],[\"Q44578\",\"P674\",\"Q1898039\"],[\"Q65\",\"P47\",\"Q846406\"],[\"Q65\",\"P47\",\"Q846409\"],[\"Q44578\",\"P674\",\"Q779461\"],[\"Q44578\",\"P674\",\"Q2380007\"],[\"Q65\",\"P47\",\"Q485716\"],[\"Q44578\",\"P674\",\"Q466171\"],[\"Q852581\",\"P47\",\"Q485176\"],[\"Q621549\",\"P47\",\"Q688596\"],[\"Q127856\",\"P47\",\"Q65\"],[\"Q65\",\"P47\",\"Q487119\"],[\"Q44578\",\"P674\",\"Q707974\"],[\"Q485176\",\"P47\",\"Q852581\"],[\"Q44578\",\"P674\",\"Q347381\"],[\"Q127856\",\"P47\",\"Q16254518\"],[\"Q16739\",\"P47\",\"Q985355\"],[\"Q65\",\"P47\",\"Q983859\"],[\"Q934111\",\"P47\",\"Q851027\"],[\"Q65\",\"P8744\",\"Q106020285\"],[\"Q851027\",\"P47\",\"Q65\"],[\"Q65\",\"P47\",\"Q927213\"],[\"Q65\",\"P47\",\"Q752681\"],[\"Q846409\",\"P47\",\"Q688596\"],[\"Q752681\",\"P47\",\"Q65\"],[\"Q983859\",\"P47\",\"Q568610\"],[\"Q99\",\"P47\",\"Q1227\"],[\"Q99\",\"P47\",\"Q824\"],[\"Q983859\",\"P47\",\"Q688596\"],[\"Q487119\",\"P47\",\"Q849619\"],[\"Q47164\",\"P47\",\"Q773853\"],[\"Q65\",\"P47\",\"Q485176\"],[\"Q44578\",\"P674\",\"Q561474\"],[\"Q852581\",\"P47\",\"Q953437\"],[\"Q934111\",\"P47\",\"Q65\"],[\"Q65\",\"P30\",\"Q49\"],[\"Q927213\",\"P47\",\"Q664503\"],[\"Q65\",\"P47\",\"Q487315\"],[\"Q485716\",\"P47\",\"Q485176\"],[\"Q65\",\"P1343\",\"Q3181656\"],[\"Q44578\",\"P674\",\"Q229631\"],[\"Q851027\",\"P47\",\"Q934111\"],[\"Q65\",\"P47\",\"Q16739\"],[\"Q65\",\"P47\",\"Q47164\"],[\"Q65\",\"P2959\",\"Q49280127\"],[\"Q846421\",\"P47\",\"Q65\"],[\"Q846406\",\"P47\",\"Q65\"],[\"Q489197\",\"P47\",\"Q65\"],[\"Q65\",\"P47\",\"Q1669280\"],[\"Q65\",\"P47\",\"Q849619\"],[\"Q927213\",\"P47\",\"Q752681\"],[\"Q44578\",\"P57\",\"Q42574\"],[\"Q99\",\"P47\",\"Q816\"],[\"Q44578\",\"P674\",\"Q714361\"],[\"Q65\",\"P47\",\"Q690991\"],[\"Q655926\",\"P47\",\"Q65\"],[\"Q752681\",\"P47\",\"Q850869\"],[\"Q99\",\"P421\",\"Q847142\"],[\"Q39561\",\"P47\",\"Q1319697\"],[\"Q629088\",\"P47\",\"Q65\"],[\"Q485716\",\"P47\",\"Q65\"],[\"Q99\",\"P37\",\"Q1860\"],[\"Q99\",\"P2633\",\"Q2661460\"],[\"Q485716\",\"P47\",\"Q1798748\"],[\"Q65\",\"P793\",\"Q8456\"],[\"Q99\",\"P421\",\"Q2212\"],[\"Q65\",\"P421\",\"Q2204\"],[\"Q44578\",\"P437\",\"Q723685\"],[\"Q65\",\"P47\",\"Q664503\"],[\"Q44578\",\"P674\",\"Q969969\"],[\"Q44578\",\"P674\",\"Q430672\"],[\"Q913346\",\"P47\",\"Q629088\"],[\"Q927213\",\"P47\",\"Q910851\"],[\"Q99\",\"P485\",\"Q38213362\"],[\"Q44578\",\"P674\",\"Q275937\"],[\"Q44578\",\"P406\",\"Q798354\"],[\"Q290356\",\"P47\",\"Q180226\"],[\"Q47164\",\"P47\",\"Q909975\"],[\"Q984162\",\"P47\",\"Q65\"],[\"Q629088\",\"P47\",\"Q913346\"],[\"Q487315\",\"P47\",\"Q65\"],[\"Q16739\",\"P47\",\"Q985349\"],[\"Q852581\",\"P47\",\"Q65\"],[\"Q65\",\"P47\",\"Q1898611\"],[\"Q664503\",\"P47\",\"Q828706\"],[\"Q99\",\"P421\",\"Q4742667\"],[\"Q65\",\"P47\",\"Q934111\"],[\"Q65\",\"P47\",\"Q852581\"],[\"Q927213\",\"P47\",\"Q65\"],[\"Q65\",\"P47\",\"Q846421\"],[\"Q99\",\"P6364\",\"Q208045\"],[\"Q664503\",\"P47\",\"Q917540\"],[\"Q846406\",\"P47\",\"Q12069123\"],[\"Q664503\",\"P47\",\"Q927213\"],[\"Q65\",\"P47\",\"Q851027\"],[\"Q65\",\"P8402\",\"Q97062858\"],[\"Q487119\",\"P47\",\"Q65\"],[\"Q485716\",\"P47\",\"Q1011181\"],[\"Q849619\",\"P47\",\"Q65\"],[\"Q65\",\"P1343\",\"Q602358\"],[\"Q485176\",\"P47\",\"Q65\"],[\"Q494690\",\"P47\",\"Q65\"],[\"Q487315\",\"P47\",\"Q2262091\"],[\"Q1898611\",\"P47\",\"Q65\"],[\"Q927213\",\"P47\",\"Q953437\"],[\"Q39561\",\"P47\",\"Q65\"],[\"Q65\",\"P793\",\"Q8143\"],[\"Q44578\",\"P2747\",\"Q23830577\"],[\"Q664503\",\"P47\",\"Q2364933\"],[\"Q16739\",\"P47\",\"Q815979\"],[\"Q65\",\"P47\",\"Q290356\"],[\"Q664503\",\"P47\",\"Q910851\"],[\"Q65\",\"P7867\",\"Q84078152\"],[\"Q44578\",\"P674\",\"Q2567503\"],[\"Q65\",\"P1343\",\"Q867541\"],[\"Q852581\",\"P47\",\"Q850869\"],[\"Q65\",\"P47\",\"Q629088\"],[\"Q44578\",\"P674\",\"Q287044\"],[\"Q65\",\"P47\",\"Q655926\"],[\"Q99\",\"P6364\",\"Q1088\"],[\"Q44578\",\"P674\",\"Q456597\"],[\"Q849619\",\"P47\",\"Q838772\"],[\"Q664503\",\"P47\",\"Q690991\"],[\"Q44578\",\"P674\",\"Q633168\"],[\"Q44578\",\"P674\",\"Q715176\"],[\"Q16739\",\"P47\",\"Q65\"],[\"Q44578\",\"P674\",\"Q18747595\"]]}\n",
      "{\"question\":\"Which actor starred in Vanilla Sky and was married to Katie Holmes?\",\"question_entities\":[\"Q110278\",\"Q174346\"],\"spans\":[[23,34],[54,66]],\"entity_names\":[\"Vanilla_Sky\",\"Katie_Holmes\"],\"id\":\"88349c89\",\"triplets\":[[\"Q110278\",\"P364\",\"Q1860\"],[\"Q174346\",\"P19\",\"Q49239\"],[\"Q110278\",\"P2554\",\"Q229598\"],[\"Q110278\",\"P5021\",\"Q4165246\"],[\"Q49088\",\"P2643\",\"Q23662433\"],[\"Q49088\",\"P2643\",\"Q23622831\"],[\"Q174346\",\"P40\",\"Q11313411\"],[\"Q49088\",\"P2643\",\"Q23662760\"],[\"Q174346\",\"P69\",\"Q49088\"],[\"Q110278\",\"P2408\",\"Q11177\"],[\"Q110278\",\"P1981\",\"Q20644797\"],[\"Q174346\",\"P1343\",\"Q67311526\"],[\"Q229598\",\"P1343\",\"Q67311526\"],[\"Q110278\",\"P437\",\"Q723685\"],[\"Q174346\",\"P26\",\"Q37079\"],[\"Q174346\",\"P6886\",\"Q1860\"],[\"Q110278\",\"P921\",\"Q7242\"],[\"Q110278\",\"P1889\",\"Q1254975\"],[\"Q49088\",\"P2643\",\"Q23334765\"],[\"Q174346\",\"P27\",\"Q30\"],[\"Q174346\",\"P1340\",\"Q17122740\"],[\"Q110278\",\"P2747\",\"Q23830578\"],[\"Q49088\",\"P2643\",\"Q23662486\"],[\"Q174346\",\"P21\",\"Q6581072\"],[\"Q49088\",\"P2643\",\"Q23623491\"],[\"Q110278\",\"P921\",\"Q10737\"],[\"Q110278\",\"P921\",\"Q544830\"]]}\n",
      "{\"question\":\"What year was the first book of the A Song of Ice and Fire series published?\",\"question_entities\":[\"Q45875\"],\"spans\":[[36,58]],\"entity_names\":[\"A_Song_of_Ice_and_Fire\"],\"id\":\"bff78c91\",\"triplets\":[[\"Q45875\",\"P527\",\"Q10371726\"],[\"Q431927\",\"P1889\",\"Q1755280\"],[\"Q45875\",\"P31\",\"Q1667921\"],[\"Q45875\",\"P4969\",\"Q23572\"],[\"Q45875\",\"P527\",\"Q28306\"],[\"Q45875\",\"P527\",\"Q1764445\"],[\"Q45875\",\"P527\",\"Q300370\"],[\"Q45875\",\"P1151\",\"Q42353334\"],[\"Q45875\",\"P1424\",\"Q6665916\"],[\"Q431927\",\"P1889\",\"Q513525\"],[\"Q45875\",\"P495\",\"Q30\"],[\"Q45875\",\"P50\",\"Q181677\"],[\"Q45875\",\"P527\",\"Q431927\"],[\"Q45875\",\"P1434\",\"Q2461698\"],[\"Q45875\",\"P527\",\"Q2712708\"],[\"Q45875\",\"P1881\",\"Q2728258\"],[\"Q1751870\",\"P1889\",\"Q20034465\"],[\"Q45875\",\"P527\",\"Q1751870\"]]}\n",
      "{\"question\":\"Who is the youngest current US governor?\",\"question_entities\":[\"Q30\"],\"spans\":[[28,30]],\"entity_names\":[\"United_States\"],\"id\":\"982450cf\",\"triplets\":[[\"Q30\",\"P421\",\"Q5390\"],[\"Q30\",\"P2959\",\"Q29045433\"],[\"Q30\",\"P237\",\"Q171663\"],[\"Q30\",\"P7867\",\"Q8607619\"],[\"Q30\",\"P1343\",\"Q4532138\"],[\"Q30\",\"P463\",\"Q2863003\"],[\"Q30\",\"P463\",\"Q4033111\"],[\"Q30\",\"P463\",\"Q170424\"],[\"Q30\",\"P421\",\"Q7105\"],[\"Q30\",\"P8744\",\"Q188540\"],[\"Q30\",\"P421\",\"Q3238805\"],[\"Q30\",\"P463\",\"Q37470\"],[\"Q30\",\"P463\",\"Q1579424\"],[\"Q30\",\"P1343\",\"Q20096917\"],[\"Q30\",\"P463\",\"Q233611\"],[\"Q30\",\"P1343\",\"Q2657718\"],[\"Q30\",\"P421\",\"Q2146\"],[\"Q30\",\"P463\",\"Q5611262\"],[\"Q30\",\"P421\",\"Q2183\"],[\"Q30\",\"P47\",\"Q96\"],[\"Q30\",\"P421\",\"Q3134980\"],[\"Q30\",\"P47\",\"Q16\"],[\"Q30\",\"P463\",\"Q1065\"],[\"Q30\",\"P463\",\"Q181574\"],[\"Q30\",\"P421\",\"Q2154\"],[\"Q30\",\"P463\",\"Q170481\"],[\"Q30\",\"P463\",\"Q4426267\"],[\"Q30\",\"P1343\",\"Q1374339\"],[\"Q30\",\"P421\",\"Q2086913\"],[\"Q30\",\"P463\",\"Q7825\"],[\"Q30\",\"P1343\",\"Q602358\"],[\"Q30\",\"P1343\",\"Q3181656\"],[\"Q30\",\"P463\",\"Q123759\"],[\"Q30\",\"P463\",\"Q674182\"],[\"Q30\",\"P463\",\"Q3866537\"],[\"Q30\",\"P463\",\"Q41550\"],[\"Q30\",\"P2959\",\"Q29045456\"],[\"Q30\",\"P421\",\"Q2212\"],[\"Q30\",\"P1343\",\"Q15987490\"],[\"Q30\",\"P1343\",\"Q4173137\"],[\"Q30\",\"P463\",\"Q7768229\"],[\"Q30\",\"P463\",\"Q826700\"],[\"Q30\",\"P463\",\"Q17495\"],[\"Q30\",\"P463\",\"Q37143\"],[\"Q30\",\"P421\",\"Q2085376\"],[\"Q30\",\"P2959\",\"Q20571325\"],[\"Q30\",\"P1343\",\"Q867541\"],[\"Q30\",\"P463\",\"Q5150848\"],[\"Q30\",\"P463\",\"Q7184\"],[\"Q30\",\"P421\",\"Q4816926\"],[\"Q30\",\"P463\",\"Q376150\"],[\"Q30\",\"P463\",\"Q19771\"],[\"Q30\",\"P418\",\"Q171663\"],[\"Q30\",\"P421\",\"Q5762\"],[\"Q30\",\"P421\",\"Q2204\"],[\"Q30\",\"P421\",\"Q5385\"],[\"Q30\",\"P1889\",\"Q828\"],[\"Q30\",\"P421\",\"Q7056\"],[\"Q30\",\"P1343\",\"Q19180675\"],[\"Q30\",\"P421\",\"Q3446496\"],[\"Q30\",\"P463\",\"Q842490\"],[\"Q30\",\"P463\",\"Q8475\"],[\"Q30\",\"P463\",\"Q7817\"]]}\n"
     ]
    }
   ],
   "source": [
    "!head -n 5 $retrieved_subgraph_path"
   ]
  },
  {
   "attachments": {},
   "cell_type": "markdown",
   "metadata": {},
   "source": [
    "## Step 3. Visualize the retrieved subgraphs\n",
    "\n",
    "You may use the `srtk visualize` command to easily visualize the retrieved subgraphs. Each subgraph is stored as a webpage file. Run `srtk visualize --help` for more details."
   ]
  },
  {
   "cell_type": "code",
   "execution_count": null,
   "metadata": {},
   "outputs": [
    {
     "name": "stdout",
     "output_type": "stream",
     "text": [
      "Visualizing graphs:   0%|                               | 0/100 [00:00<?, ?it/s]No label for identifier Q49280127.\n",
      "Visualizing graphs:   4%|▉                      | 4/100 [00:00<00:15,  6.06it/s]No label for identifier Q29045456.\n",
      "No label for identifier Q20571325.\n",
      "No label for identifier Q29045433.\n",
      "Visualizing graphs:  22%|████▊                 | 22/100 [00:03<00:10,  7.66it/s]No label for identifier Q25554668.\n",
      "Visualizing graphs:  23%|█████                 | 23/100 [00:03<00:11,  6.79it/s]No label for identifier Q43200400.\n",
      "Visualizing graphs:  25%|█████▌                | 25/100 [00:03<00:11,  6.29it/s]No label for identifier Q22828226.\n",
      "Visualizing graphs:  37%|████████▏             | 37/100 [00:04<00:06,  9.97it/s]No label for identifier Q11522520.\n",
      "Visualizing graphs:  57%|████████████▌         | 57/100 [00:06<00:03, 13.73it/s]No label for identifier Q1847223.\n",
      "No label for identifier Q112289487.\n",
      "Visualizing graphs:  61%|█████████████▍        | 61/100 [00:06<00:03, 11.89it/s]No label for identifier Q24738119.\n",
      "Visualizing graphs: 100%|█████████████████████| 100/100 [00:10<00:00,  9.85it/s]\n",
      "Visualized graphs outputted to data/mintaka-100/html.\n"
     ]
    }
   ],
   "source": [
    "!srtk visualize --input $retrieved_subgraph_path \\\n",
    "    --output-dir $visualization_dir \\\n",
    "    --sparql-endpoint http://localhost:1234/api/endpoint/sparql \\\n",
    "    --knowledge-graph wikidata"
   ]
  },
  {
   "attachments": {},
   "cell_type": "markdown",
   "metadata": {},
   "source": [
    "A visualization example of question *Which actor starred in Vanilla Sky and was married to Katie Holmes?* is shown below. The question entities are shown in dark blue.\n",
    "\n",
    "![image.png](https://i.imgur.com/nsYUhGT.png)"
   ]
  },
  {
   "attachments": {},
   "cell_type": "markdown",
   "metadata": {},
   "source": [
    "Moreover, the visualization script can highlight the answer entities if the answers are known (e.g. KGQA). To do so, 'answer_entities' field should present in the subgraph JSONL file. The format of the 'answer_entities' field is a list of Wikidata entity IDs.\n",
    "\n",
    "In Mintaka dataset, some of the answers are in the form of entities and are already known, we can trivially add them to the subgraph JSONL file."
   ]
  },
  {
   "cell_type": "code",
   "execution_count": null,
   "metadata": {},
   "outputs": [
    {
     "name": "stdout",
     "output_type": "stream",
     "text": [
      "{\"question\":\"What is the seventh tallest mountain in North America?\",\"question_entities\":[\"Q49\"],\"spans\":[[40,53]],\"entity_names\":[\"North_America\"],\"id\":\"a9011ddf\",\"triplets\":[[\"Q49\",\"P1424\",\"Q7473987\"],[\"Q49\",\"P5125\",\"Q7112387\"],[\"Q49\",\"P460\",\"Q108275538\"],[\"Q49\",\"P9241\",\"Q105743111\"],[\"Q49\",\"P527\",\"Q664609\"],[\"Q49\",\"P5008\",\"Q6173448\"],[\"Q49\",\"P1151\",\"Q8251832\"],[\"Q49\",\"P361\",\"Q828\"],[\"Q49\",\"P527\",\"Q223\"],[\"Q49\",\"P31\",\"Q5107\"],[\"Q49\",\"P1424\",\"Q10969804\"],[\"Q49\",\"P706\",\"Q39061\"],[\"Q49\",\"P527\",\"Q27611\"],[\"Q49\",\"P527\",\"Q19464773\"],[\"Q49\",\"P5008\",\"Q5460604\"],[\"Q49\",\"P527\",\"Q30\"],[\"Q49\",\"P460\",\"Q7856408\"],[\"Q49\",\"P31\",\"Q855697\"]],\"answer_entities\":[\"Q1153188\"]}\n",
      "{\"question\":\"Which actor was the star of Titanic and was born in Los Angeles, California?\",\"question_entities\":[\"Q44578\",\"Q65\",\"Q99\"],\"spans\":[[28,35],[52,63],[65,75]],\"entity_names\":[\"Titanic_(1997_film)\",\"Los_Angeles\",\"California\"],\"id\":\"2723bb1b\",\"triplets\":[[\"Q99\",\"P421\",\"Q2212\"],[\"Q65\",\"P47\",\"Q846406\"],[\"Q99\",\"P47\",\"Q1227\"],[\"Q47164\",\"P47\",\"Q1370207\"],[\"Q65\",\"P30\",\"Q49\"],[\"Q934111\",\"P47\",\"Q65\"],[\"Q621549\",\"P47\",\"Q65\"],[\"Q851027\",\"P47\",\"Q953506\"],[\"Q44578\",\"P674\",\"Q561474\"],[\"Q99\",\"P6364\",\"Q1088\"],[\"Q16739\",\"P47\",\"Q985349\"],[\"Q489197\",\"P47\",\"Q948149\"],[\"Q65\",\"P421\",\"Q2204\"],[\"Q65\",\"P47\",\"Q1669280\"],[\"Q65\",\"P1343\",\"Q15987490\"],[\"Q65\",\"P47\",\"Q485716\"],[\"Q65\",\"P793\",\"Q8456\"],[\"Q44578\",\"P674\",\"Q729694\"],[\"Q47164\",\"P47\",\"Q65\"],[\"Q65\",\"P47\",\"Q752681\"],[\"Q44578\",\"P406\",\"Q2478025\"],[\"Q690991\",\"P47\",\"Q65\"],[\"Q16739\",\"P47\",\"Q65\"],[\"Q852581\",\"P47\",\"Q953437\"],[\"Q927213\",\"P47\",\"Q910851\"],[\"Q846406\",\"P47\",\"Q65\"],[\"Q487315\",\"P47\",\"Q2262091\"],[\"Q65\",\"P1343\",\"Q3181656\"],[\"Q127856\",\"P47\",\"Q16254518\"],[\"Q44578\",\"P437\",\"Q47544021\"],[\"Q664503\",\"P47\",\"Q910851\"],[\"Q489197\",\"P47\",\"Q984162\"],[\"Q65\",\"P47\",\"Q851027\"],[\"Q927213\",\"P47\",\"Q953437\"],[\"Q629088\",\"P47\",\"Q395793\"],[\"Q44578\",\"P674\",\"Q3805567\"],[\"Q44578\",\"P674\",\"Q969969\"],[\"Q846409\",\"P47\",\"Q688596\"],[\"Q39561\",\"P47\",\"Q65\"],[\"Q44578\",\"P674\",\"Q275937\"],[\"Q487119\",\"P47\",\"Q849619\"],[\"Q99\",\"P8402\",\"Q97066139\"],[\"Q65\",\"P47\",\"Q690991\"],[\"Q44578\",\"P674\",\"Q4892194\"],[\"Q849619\",\"P47\",\"Q487119\"],[\"Q485716\",\"P47\",\"Q1011181\"],[\"Q44578\",\"P674\",\"Q455187\"],[\"Q44578\",\"P674\",\"Q229631\"],[\"Q65\",\"P47\",\"Q489197\"],[\"Q44578\",\"P674\",\"Q347381\"],[\"Q494690\",\"P47\",\"Q65\"],[\"Q629088\",\"P47\",\"Q65\"],[\"Q913346\",\"P47\",\"Q12069123\"],[\"Q752681\",\"P47\",\"Q927213\"],[\"Q65\",\"P47\",\"Q47164\"],[\"Q489197\",\"P47\",\"Q739011\"],[\"Q927213\",\"P47\",\"Q664503\"],[\"Q65\",\"P47\",\"Q621549\"],[\"Q629088\",\"P47\",\"Q913346\"],[\"Q44578\",\"P674\",\"Q545805\"],[\"Q485176\",\"P47\",\"Q850869\"],[\"Q99\",\"P6364\",\"Q208045\"],[\"Q44578\",\"P674\",\"Q430672\"],[\"Q65\",\"P47\",\"Q984162\"],[\"Q44578\",\"P8371\",\"Q5151182\"],[\"Q99\",\"P7867\",\"Q84082118\"],[\"Q99\",\"P37\",\"Q1860\"],[\"Q851027\",\"P47\",\"Q934111\"],[\"Q852581\",\"P47\",\"Q65\"],[\"Q99\",\"P421\",\"Q847142\"],[\"Q621549\",\"P47\",\"Q688596\"],[\"Q44578\",\"P57\",\"Q42574\"],[\"Q65\",\"P47\",\"Q846421\"],[\"Q846409\",\"P47\",\"Q489197\"],[\"Q664503\",\"P47\",\"Q828706\"],[\"Q852581\",\"P47\",\"Q485176\"],[\"Q65\",\"P47\",\"Q849619\"],[\"Q927213\",\"P47\",\"Q65\"],[\"Q849619\",\"P47\",\"Q65\"],[\"Q65\",\"P47\",\"Q927213\"],[\"Q65\",\"P793\",\"Q7510214\"],[\"Q664503\",\"P47\",\"Q65\"],[\"Q849619\",\"P47\",\"Q927134\"],[\"Q934111\",\"P47\",\"Q851027\"],[\"Q65\",\"P47\",\"Q846409\"],[\"Q489197\",\"P47\",\"Q985356\"],[\"Q99\",\"P421\",\"Q2204\"],[\"Q99\",\"P30\",\"Q49\"],[\"Q44578\",\"P2554\",\"Q1370251\"],[\"Q913346\",\"P47\",\"Q629088\"],[\"Q44578\",\"P674\",\"Q577873\"],[\"Q44578\",\"P58\",\"Q42574\"],[\"Q65\",\"P47\",\"Q655926\"],[\"Q65\",\"P1343\",\"Q20096917\"],[\"Q44578\",\"P1657\",\"Q18665339\"],[\"Q493378\",\"P47\",\"Q65\"],[\"Q1898553\",\"P47\",\"Q65\"],[\"Q65\",\"P47\",\"Q2584592\"],[\"Q65\",\"P47\",\"Q629088\"],[\"Q39561\",\"P47\",\"Q485716\"],[\"Q752681\",\"P47\",\"Q910851\"],[\"Q44578\",\"P674\",\"Q2380007\"],[\"Q65\",\"P47\",\"Q494690\"],[\"Q65\",\"P47\",\"Q934111\"],[\"Q489197\",\"P47\",\"Q846409\"],[\"Q99\",\"P2633\",\"Q2661460\"],[\"Q44578\",\"P406\",\"Q798354\"],[\"Q664503\",\"P47\",\"Q2364933\"],[\"Q44578\",\"P674\",\"Q633168\"],[\"Q65\",\"P8402\",\"Q97062858\"],[\"Q485716\",\"P47\",\"Q39561\"],[\"Q983859\",\"P47\",\"Q65\"],[\"Q44578\",\"P2758\",\"Q23817729\"],[\"Q752681\",\"P47\",\"Q852581\"],[\"Q44578\",\"P674\",\"Q456597\"],[\"Q127856\",\"P47\",\"Q65\"],[\"Q983859\",\"P47\",\"Q688596\"],[\"Q984162\",\"P47\",\"Q65\"],[\"Q16739\",\"P47\",\"Q985355\"],[\"Q44578\",\"P674\",\"Q2567503\"],[\"Q44578\",\"P674\",\"Q255184\"],[\"Q44578\",\"P674\",\"Q707974\"],[\"Q44578\",\"P674\",\"Q215786\"],[\"Q16739\",\"P47\",\"Q815979\"],[\"Q44578\",\"P674\",\"Q466171\"],[\"Q44578\",\"P674\",\"Q972647\"],[\"Q47164\",\"P47\",\"Q909975\"],[\"Q852581\",\"P47\",\"Q752681\"],[\"Q485176\",\"P47\",\"Q174026\"],[\"Q65\",\"P793\",\"Q8143\"],[\"Q99\",\"P610\",\"Q235539\"],[\"Q852581\",\"P47\",\"Q850869\"],[\"Q851027\",\"P47\",\"Q65\"],[\"Q65\",\"P47\",\"Q983859\"],[\"Q846406\",\"P47\",\"Q12069123\"],[\"Q65\",\"P47\",\"Q39561\"],[\"Q44578\",\"P674\",\"Q714768\"],[\"Q927213\",\"P47\",\"Q752681\"],[\"Q655926\",\"P47\",\"Q65\"],[\"Q47164\",\"P47\",\"Q773853\"],[\"Q65\",\"P47\",\"Q487119\"],[\"Q65\",\"P47\",\"Q852581\"],[\"Q487315\",\"P47\",\"Q65\"],[\"Q664503\",\"P47\",\"Q917540\"],[\"Q39561\",\"P47\",\"Q1319697\"],[\"Q752681\",\"P47\",\"Q65\"],[\"Q485716\",\"P47\",\"Q1798748\"],[\"Q65\",\"P421\",\"Q2212\"],[\"Q99\",\"P47\",\"Q58731\"],[\"Q485716\",\"P47\",\"Q65\"],[\"Q65\",\"P47\",\"Q664503\"],[\"Q621549\",\"P47\",\"Q8731\"],[\"Q44578\",\"P674\",\"Q715176\"],[\"Q65\",\"P1343\",\"Q602358\"],[\"Q752681\",\"P47\",\"Q850869\"],[\"Q44578\",\"P674\",\"Q347334\"],[\"Q485716\",\"P47\",\"Q485176\"],[\"Q65\",\"P8744\",\"Q106020285\"],[\"Q65\",\"P47\",\"Q487315\"],[\"Q664503\",\"P47\",\"Q690991\"],[\"Q99\",\"P421\",\"Q4742667\"],[\"Q65\",\"P47\",\"Q493378\"],[\"Q983859\",\"P47\",\"Q568610\"],[\"Q65\",\"P1343\",\"Q867541\"],[\"Q65\",\"P1343\",\"Q19180675\"],[\"Q99\",\"P47\",\"Q824\"],[\"Q2584592\",\"P47\",\"Q65\"],[\"Q1898611\",\"P47\",\"Q65\"],[\"Q846409\",\"P47\",\"Q1668473\"],[\"Q44578\",\"P674\",\"Q1898039\"],[\"Q485176\",\"P47\",\"Q852581\"],[\"Q65\",\"P47\",\"Q485176\"],[\"Q65\",\"P47\",\"Q913346\"],[\"Q44578\",\"P674\",\"Q779461\"],[\"Q44578\",\"P674\",\"Q18747595\"],[\"Q99\",\"P485\",\"Q38213362\"],[\"Q65\",\"P47\",\"Q1898553\"],[\"Q65\",\"P47\",\"Q1898611\"],[\"Q65\",\"P47\",\"Q290356\"],[\"Q846409\",\"P47\",\"Q65\"],[\"Q664503\",\"P47\",\"Q927213\"],[\"Q1669280\",\"P47\",\"Q65\"],[\"Q44578\",\"P437\",\"Q723685\"],[\"Q65\",\"P47\",\"Q127856\"],[\"Q487119\",\"P47\",\"Q65\"],[\"Q489197\",\"P47\",\"Q65\"],[\"Q99\",\"P47\",\"Q816\"],[\"Q65\",\"P7867\",\"Q84078152\"],[\"Q44578\",\"P2747\",\"Q23830577\"],[\"Q485176\",\"P47\",\"Q65\"],[\"Q65\",\"P47\",\"Q16739\"],[\"Q846421\",\"P47\",\"Q65\"],[\"Q44578\",\"P674\",\"Q714361\"],[\"Q65\",\"P2959\",\"Q49280127\"],[\"Q290356\",\"P47\",\"Q180226\"],[\"Q65\",\"P421\",\"Q847142\"],[\"Q849619\",\"P47\",\"Q838772\"],[\"Q984162\",\"P47\",\"Q489197\"],[\"Q44578\",\"P674\",\"Q287044\"]],\"answer_entities\":[\"Q38111\"]}\n",
      "{\"question\":\"Which actor starred in Vanilla Sky and was married to Katie Holmes?\",\"question_entities\":[\"Q110278\",\"Q174346\"],\"spans\":[[23,34],[54,66]],\"entity_names\":[\"Vanilla_Sky\",\"Katie_Holmes\"],\"id\":\"88349c89\",\"triplets\":[[\"Q110278\",\"P1981\",\"Q20644797\"],[\"Q49088\",\"P2643\",\"Q23622831\"],[\"Q174346\",\"P1340\",\"Q17122740\"],[\"Q49088\",\"P2643\",\"Q23623491\"],[\"Q174346\",\"P19\",\"Q49239\"],[\"Q174346\",\"P27\",\"Q30\"],[\"Q110278\",\"P921\",\"Q10737\"],[\"Q174346\",\"P26\",\"Q37079\"],[\"Q49088\",\"P2643\",\"Q23662433\"],[\"Q110278\",\"P364\",\"Q1860\"],[\"Q174346\",\"P6886\",\"Q1860\"],[\"Q49088\",\"P2643\",\"Q23662486\"],[\"Q110278\",\"P921\",\"Q544830\"],[\"Q49088\",\"P2643\",\"Q23334765\"],[\"Q174346\",\"P40\",\"Q11313411\"],[\"Q174346\",\"P69\",\"Q49088\"],[\"Q110278\",\"P2408\",\"Q11177\"],[\"Q110278\",\"P921\",\"Q7242\"],[\"Q174346\",\"P21\",\"Q6581072\"],[\"Q229598\",\"P1343\",\"Q67311526\"],[\"Q110278\",\"P2554\",\"Q229598\"],[\"Q49088\",\"P2643\",\"Q23662760\"],[\"Q110278\",\"P437\",\"Q723685\"],[\"Q110278\",\"P5021\",\"Q4165246\"],[\"Q110278\",\"P2747\",\"Q23830578\"],[\"Q110278\",\"P1889\",\"Q1254975\"],[\"Q174346\",\"P1343\",\"Q67311526\"]],\"answer_entities\":[\"Q37079\"]}\n",
      "{\"question\":\"What year was the first book of the A Song of Ice and Fire series published?\",\"question_entities\":[\"Q45875\"],\"spans\":[[36,58]],\"entity_names\":[\"A_Song_of_Ice_and_Fire\"],\"id\":\"bff78c91\",\"triplets\":[[\"Q1751870\",\"P1889\",\"Q20034465\"],[\"Q45875\",\"P1434\",\"Q2461698\"],[\"Q45875\",\"P527\",\"Q28306\"],[\"Q45875\",\"P527\",\"Q2712708\"],[\"Q45875\",\"P50\",\"Q181677\"],[\"Q45875\",\"P1424\",\"Q6665916\"],[\"Q45875\",\"P527\",\"Q1751870\"],[\"Q45875\",\"P527\",\"Q10371726\"],[\"Q45875\",\"P4969\",\"Q23572\"],[\"Q45875\",\"P1151\",\"Q42353334\"],[\"Q45875\",\"P527\",\"Q300370\"],[\"Q45875\",\"P527\",\"Q431927\"],[\"Q45875\",\"P1881\",\"Q2728258\"],[\"Q45875\",\"P31\",\"Q1667921\"],[\"Q431927\",\"P1889\",\"Q1755280\"],[\"Q45875\",\"P495\",\"Q30\"],[\"Q45875\",\"P527\",\"Q1764445\"],[\"Q431927\",\"P1889\",\"Q513525\"]],\"answer_entities\":[]}\n",
      "{\"question\":\"Who is the youngest current US governor?\",\"question_entities\":[\"Q30\"],\"spans\":[[28,30]],\"entity_names\":[\"United_States\"],\"id\":\"982450cf\",\"triplets\":[[\"Q30\",\"P463\",\"Q7825\"],[\"Q30\",\"P1343\",\"Q2657718\"],[\"Q30\",\"P421\",\"Q5762\"],[\"Q30\",\"P463\",\"Q842490\"],[\"Q30\",\"P1343\",\"Q20096917\"],[\"Q30\",\"P463\",\"Q37143\"],[\"Q30\",\"P463\",\"Q170481\"],[\"Q30\",\"P463\",\"Q181574\"],[\"Q30\",\"P463\",\"Q1579424\"],[\"Q30\",\"P47\",\"Q96\"],[\"Q30\",\"P421\",\"Q3134980\"],[\"Q30\",\"P1889\",\"Q828\"],[\"Q30\",\"P463\",\"Q7768229\"],[\"Q30\",\"P421\",\"Q3446496\"],[\"Q30\",\"P463\",\"Q41550\"],[\"Q30\",\"P463\",\"Q4426267\"],[\"Q30\",\"P421\",\"Q2212\"],[\"Q30\",\"P421\",\"Q2146\"],[\"Q30\",\"P421\",\"Q3238805\"],[\"Q30\",\"P463\",\"Q123759\"],[\"Q30\",\"P1343\",\"Q3181656\"],[\"Q30\",\"P7867\",\"Q8607619\"],[\"Q30\",\"P463\",\"Q233611\"],[\"Q30\",\"P463\",\"Q826700\"],[\"Q30\",\"P2959\",\"Q20571325\"],[\"Q30\",\"P421\",\"Q7056\"],[\"Q30\",\"P463\",\"Q4033111\"],[\"Q30\",\"P421\",\"Q2154\"],[\"Q30\",\"P463\",\"Q1065\"],[\"Q30\",\"P421\",\"Q2085376\"],[\"Q30\",\"P1343\",\"Q602358\"],[\"Q30\",\"P463\",\"Q7184\"],[\"Q30\",\"P463\",\"Q170424\"],[\"Q30\",\"P47\",\"Q16\"],[\"Q30\",\"P463\",\"Q5611262\"],[\"Q30\",\"P463\",\"Q19771\"],[\"Q30\",\"P418\",\"Q171663\"],[\"Q30\",\"P421\",\"Q2086913\"],[\"Q30\",\"P1343\",\"Q867541\"],[\"Q30\",\"P421\",\"Q5390\"],[\"Q30\",\"P2959\",\"Q29045456\"],[\"Q30\",\"P421\",\"Q5385\"],[\"Q30\",\"P421\",\"Q7105\"],[\"Q30\",\"P1343\",\"Q4173137\"],[\"Q30\",\"P1343\",\"Q19180675\"],[\"Q30\",\"P463\",\"Q8475\"],[\"Q30\",\"P463\",\"Q674182\"],[\"Q30\",\"P421\",\"Q2183\"],[\"Q30\",\"P237\",\"Q171663\"],[\"Q30\",\"P2959\",\"Q29045433\"],[\"Q30\",\"P421\",\"Q2204\"],[\"Q30\",\"P1343\",\"Q15987490\"],[\"Q30\",\"P1343\",\"Q4532138\"],[\"Q30\",\"P463\",\"Q37470\"],[\"Q30\",\"P8744\",\"Q188540\"],[\"Q30\",\"P463\",\"Q7817\"],[\"Q30\",\"P463\",\"Q2863003\"],[\"Q30\",\"P463\",\"Q5150848\"],[\"Q30\",\"P463\",\"Q17495\"],[\"Q30\",\"P463\",\"Q3866537\"],[\"Q30\",\"P1343\",\"Q1374339\"],[\"Q30\",\"P421\",\"Q4816926\"],[\"Q30\",\"P463\",\"Q376150\"]],\"answer_entities\":[\"Q3105215\"]}\n"
     ]
    }
   ],
   "source": [
    "subgraphs = srsly.read_jsonl(retrieved_subgraph_path)\n",
    "processed_subgraphs = []\n",
    "for sample, subgraph in zip(iter(mintaka), subgraphs):\n",
    "    answers = [answer['name'] for answer in sample['answerEntity']]\n",
    "    subgraph['answer_entities'] = answers\n",
    "    processed_subgraphs.append(subgraph)\n",
    "srsly.write_jsonl(retrieved_subgraph_path, processed_subgraphs)\n",
    "\n",
    "!head -n 5 $retrieved_subgraph_path"
   ]
  },
  {
   "attachments": {},
   "cell_type": "markdown",
   "metadata": {},
   "source": [
    "Run the visualization script again, we can see that the answer entities are highlighted in green the subgraph."
   ]
  },
  {
   "cell_type": "code",
   "execution_count": null,
   "metadata": {},
   "outputs": [
    {
     "name": "stdout",
     "output_type": "stream",
     "text": [
      "Visualizing graphs:   0%|                               | 0/100 [00:00<?, ?it/s]No label for identifier Q49280127.\n",
      "Visualizing graphs:   3%|▋                      | 3/100 [00:00<00:16,  5.84it/s]No label for identifier Q20571325.\n",
      "No label for identifier Q29045456.\n",
      "No label for identifier Q29045433.\n",
      "Visualizing graphs:   5%|█▏                     | 5/100 [00:00<00:13,  7.18it/s]No label for identifier Q29045456.\n",
      "Visualizing graphs:  22%|████▊                 | 22/100 [00:03<00:10,  7.72it/s]No label for identifier Q25554668.\n",
      "Visualizing graphs:  23%|█████                 | 23/100 [00:03<00:10,  7.36it/s]No label for identifier Q43200400.\n",
      "Visualizing graphs:  24%|█████▎                | 24/100 [00:03<00:11,  6.89it/s]No label for identifier Q22828226.\n",
      "Visualizing graphs:  38%|████████▎             | 38/100 [00:04<00:05, 11.25it/s]No label for identifier Q11522520.\n",
      "Visualizing graphs:  57%|████████████▌         | 57/100 [00:05<00:03, 13.83it/s]No label for identifier Q112289487.\n",
      "No label for identifier Q1847223.\n",
      "Visualizing graphs:  61%|█████████████▍        | 61/100 [00:06<00:03, 12.36it/s]No label for identifier Q24738119.\n",
      "Visualizing graphs: 100%|█████████████████████| 100/100 [00:09<00:00, 10.76it/s]\n",
      "Visualized graphs outputted to data/mintaka-100/html.\n"
     ]
    }
   ],
   "source": [
    "!srtk visualize --input $retrieved_subgraph_path \\\n",
    "    --output-dir $visualization_dir \\\n",
    "    --sparql-endpoint http://localhost:1234/api/endpoint/sparql \\\n",
    "    --knowledge-graph wikidata"
   ]
  },
  {
   "attachments": {},
   "cell_type": "markdown",
   "metadata": {},
   "source": [
    "If the answer entities are retrieved, they will be displayed in green. An example is shown below.\n",
    "\n",
    "![with-answer-entity](https://i.imgur.com/BcC8dde.png)"
   ]
  }
 ],
 "metadata": {
  "kernelspec": {
   "display_name": "dragon",
   "language": "python",
   "name": "python3"
  },
  "language_info": {
   "codemirror_mode": {
    "name": "ipython",
    "version": 3
   },
   "file_extension": ".py",
   "mimetype": "text/x-python",
   "name": "python",
   "nbconvert_exporter": "python",
   "pygments_lexer": "ipython3",
   "version": "3.8.15"
  }
 },
 "nbformat": 4,
 "nbformat_minor": 2
}
